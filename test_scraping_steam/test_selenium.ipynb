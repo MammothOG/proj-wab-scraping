{
 "cells": [
  {
   "cell_type": "code",
   "execution_count": 26,
   "metadata": {},
   "outputs": [],
   "source": [
    "from selenium import webdriver\n",
    "# from selenium.common.exceptions import NoSuchElementException\n",
    "from selenium.webdriver.common.by import By\n",
    "from selenium.webdriver.support.ui import WebDriverWait\n",
    "from selenium.webdriver.support import expected_conditions as EC\n",
    "import time\n",
    "\n",
    "refresh_time = 10\n",
    "\n",
    "driver = webdriver.Chrome()"
   ]
  },
  {
   "cell_type": "markdown",
   "metadata": {},
   "source": [
    "driver.implicitly_wait(20)"
   ]
  },
  {
   "cell_type": "code",
   "execution_count": 28,
   "metadata": {},
   "outputs": [],
   "source": [
    "driver.get(\"https://steamcommunity.com/market/listings/730/Shattered%20Web%20Case\")\n",
    "assert \"Marché de la communauté Steam :: Offres pour Shattered Web Case\" in driver.title"
   ]
  },
  {
   "cell_type": "code",
   "execution_count": 29,
   "metadata": {},
   "outputs": [
    {
     "name": "stdout",
     "output_type": "stream",
     "text": [
      "102299\n",
      "102299\n"
     ]
    }
   ],
   "source": [
    "try:\n",
    "    for i in range(2):\n",
    "        element = driver.find_element_by_class_name(\"market_commodity_orders_header_promote\")\n",
    "        print(element.text)\n",
    "        time.sleep(1)\n",
    "finally:\n",
    "    assert \"No results found.\" not in driver.page_source\n",
    "    driver.close()"
   ]
  },
  {
   "cell_type": "code",
   "execution_count": 8,
   "metadata": {},
   "outputs": [
    {
     "name": "stdout",
     "output_type": "stream",
     "text": [
      "102101\n",
      "102101\n"
     ]
    }
   ],
   "source": [
    "i = 0\n",
    "try:\n",
    "    wait  = WebDriverWait(driver, refresh_time)\n",
    "    for i in range(2):\n",
    "        \n",
    "        element = wait.until(EC.presence_of_element_located((By.CLASS_NAME,\n",
    "                    \"market_commodity_orders_header_promote\"))\n",
    "        )\n",
    "        print(element.text)\n",
    "        time.sleep(10)\n",
    "finally:\n",
    "    assert \"No results found.\" not in driver.page_source\n",
    "    driver.close()"
   ]
  },
  {
   "cell_type": "code",
   "execution_count": 30,
   "metadata": {},
   "outputs": [
    {
     "data": {
      "text/plain": [
       "'Hell%C3%B6+W%C3%B6rld%40Python'"
      ]
     },
     "execution_count": 30,
     "metadata": {},
     "output_type": "execute_result"
    }
   ],
   "source": [
    "import urllib.parse\n",
    "query = 'Hellö Wörld@Python'\n",
    "urllib.parse.quote_plus(query)"
   ]
  },
  {
   "cell_type": "code",
   "execution_count": null,
   "metadata": {},
   "outputs": [],
   "source": []
  }
 ],
 "metadata": {
  "kernelspec": {
   "display_name": "Python 3",
   "language": "python",
   "name": "python3"
  },
  "language_info": {
   "codemirror_mode": {
    "name": "ipython",
    "version": 3
   },
   "file_extension": ".py",
   "mimetype": "text/x-python",
   "name": "python",
   "nbconvert_exporter": "python",
   "pygments_lexer": "ipython3",
   "version": "3.7.6"
  }
 },
 "nbformat": 4,
 "nbformat_minor": 4
}