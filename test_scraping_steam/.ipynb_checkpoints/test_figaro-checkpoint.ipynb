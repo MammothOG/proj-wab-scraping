{
 "cells": [
  {
   "cell_type": "code",
   "execution_count": 138,
   "metadata": {},
   "outputs": [
    {
     "name": "stdout",
     "output_type": "stream",
     "text": [
      "Link :  https://steamcommunity.com/market/search?q=&category_730_ItemSet%5B%5D=any&category_730_ProPlayer%5B%5D=any&category_730_StickerCapsule%5B%5D=any&category_730_TournamentTeam%5B%5D=any&category_730_Weapon%5B%5D=tag_weapon_awp&category_730_Exterior%5B%5D=tag_WearCategory0&category_730_Quality%5B%5D=tag_normal&appid=730#p1_popular_asc\n",
      "Response :  <Response [200]>\n"
     ]
    }
   ],
   "source": [
    "import requests\n",
    "\n",
    "parameter = {\n",
    "    \"itemset\": \"any\",\n",
    "    \"proplayer\": \"any\",\n",
    "    \"stickercapsule\": \"any\",\n",
    "    \"tournamentteam\": \"any\",\n",
    "    \"weapon\": \"tag_weapon_awp\",\n",
    "    \"exterior\": \"tag_WearCategory0\",\n",
    "    \"quality\": \"tag_normal\",\n",
    "    \"appid\": \"730\", # cs go id\n",
    "    \"page\": 1, # page number \n",
    "    \"sorted\": \"popular\", # sorted by, option : quantity, popular\n",
    "    \"order\": \"asc\", # ascendant or descendant, option : desc\n",
    "}\n",
    "\n",
    "steam_market = \"https://steamcommunity.com/market/search\" \\\n",
    "                        \"?q=&category_{appid}_ItemSet%5B%5D={itemset}\" \\\n",
    "                        \"&category_{appid}_ProPlayer%5B%5D={proplayer}\" \\\n",
    "                        \"&category_{appid}_StickerCapsule%5B%5D={stickercapsule}\" \\\n",
    "                        \"&category_{appid}_TournamentTeam%5B%5D={tournamentteam}\" \\\n",
    "                        \"&category_{appid}_Weapon%5B%5D={weapon}\" \\\n",
    "                        \"&category_{appid}_Exterior%5B%5D={exterior}\" \\\n",
    "                        \"&category_{appid}_Quality%5B%5D={quality}\" \\\n",
    "                        \"&appid={appid}\" \\\n",
    "                        \"#p{page}_{sorted}_{order}\".format(**parameter)\n",
    "\n",
    "print(\"Link : \", steam_market.replace(\"amp;\", \"\"))\n",
    "\n",
    "page = requests.get(steam_market)\n",
    "print(\"Response : \", page)\n"
   ]
  },
  {
   "cell_type": "code",
   "execution_count": 139,
   "metadata": {},
   "outputs": [
    {
     "name": "stdout",
     "output_type": "stream",
     "text": [
      "Number of items 23\n"
     ]
    }
   ],
   "source": [
    "from bs4 import BeautifulSoup\n",
    "\n",
    "soup = BeautifulSoup(page.content, 'lxml')\n",
    "\n",
    "# get number of page\n",
    "element = soup.find('span', id=\"searchResults_total\")\n",
    "print(\"Number of items\", element.get_text())"
   ]
  },
  {
   "cell_type": "code",
   "execution_count": 154,
   "metadata": {},
   "outputs": [
    {
     "name": "stdout",
     "output_type": "stream",
     "text": [
      "AWP | Elite Build (Factory New)  =>  ['AWP', 'Elite Build', 'Factory New']\n",
      "AWP | Hyper Beast (Factory New)  =>  ['AWP', 'Hyper Beast', 'Factory New']\n",
      "AWP | Safari Mesh (Factory New)  =>  ['AWP', 'Safari Mesh', 'Factory New']\n",
      "AWP | Corticera (Factory New)  =>  ['AWP', 'Corticera', 'Factory New']\n",
      "AWP | Lightning Strike (Factory New)  =>  ['AWP', 'Lightning Strike', 'Factory New']\n",
      "AWP | Acheron (Factory New)  =>  ['AWP', 'Acheron', 'Factory New']\n",
      "AWP | Neo-Noir (Factory New)  =>  ['AWP', 'Neo-Noir', 'Factory New']\n",
      "AWP | Phobos (Factory New)  =>  ['AWP', 'Phobos', 'Factory New']\n",
      "AWP | Electric Hive (Factory New)  =>  ['AWP', 'Electric Hive', 'Factory New']\n",
      "AWP | Graphite (Factory New)  =>  ['AWP', 'Graphite', 'Factory New']\n"
     ]
    }
   ],
   "source": [
    "# get item name \n",
    "soup_items = soup.find_all('span', {\"class\": \"market_listing_item_name\"})\n",
    "# get item price\n",
    "soup_prices = soup.find_all('span', {\"class\": \"sale_price\"})\n",
    "\n",
    "from pandas import DataFrame\n",
    "import re\n",
    "\n",
    "assert len(soup_prices) == len(soup_items)\n",
    "\n",
    "page_item = []\n",
    "for item, price in zip(soup_items, soup_prices):\n",
    "    formatted_item = re.split(\"\\s\\|\\s|\\s\\(|\\)\", item.get_text())[:3] # TODO improve regex\n",
    "    print( item.get_text(), \" => \", formatted_item)\n",
    "    formatted_price = price.get_text().replace(\"$\",\"\").split(\" \")\n",
    "    #print(formatted_price)\n",
    "    \n",
    "    page_item.append(formatted_item + formatted_price)\n",
    "    "
   ]
  },
  {
   "cell_type": "code",
   "execution_count": 166,
   "metadata": {},
   "outputs": [
    {
     "name": "stdout",
     "output_type": "stream",
     "text": [
      "  type              name    condition   price currency\n",
      "0  AWP       Elite Build  Factory New   14.94      USD\n",
      "1  AWP       Hyper Beast  Factory New   62.23      USD\n",
      "2  AWP       Safari Mesh  Factory New    2.22      USD\n",
      "3  AWP         Corticera  Factory New   17.23      USD\n",
      "4  AWP  Lightning Strike  Factory New  150.35      USD\n",
      "5  AWP           Acheron  Factory New    6.08      USD\n",
      "6  AWP          Neo-Noir  Factory New   50.56      USD\n",
      "7  AWP            Phobos  Factory New    2.35      USD\n",
      "8  AWP     Electric Hive  Factory New   22.82      USD\n",
      "9  AWP          Graphite  Factory New   73.76      USD\n",
      "type          object\n",
      "name          object\n",
      "condition     object\n",
      "price        float64\n",
      "currency      object\n",
      "dtype: object\n"
     ]
    }
   ],
   "source": [
    "import pandas as pd\n",
    "import numpy as np\n",
    "\n",
    "\n",
    "col = [\"type\", \"name\", \"condition\", \"price\", \"currency\"]\n",
    "df = pd.DataFrame(page_item, columns=col)\n",
    "\n",
    "df.to_string()\n",
    "\n",
    "df[\"price\"] = pd.to_numeric(df[\"price\"])\n",
    "\n",
    "print(df)\n",
    "print(df.dtypes)"
   ]
  },
  {
   "cell_type": "code",
   "execution_count": null,
   "metadata": {},
   "outputs": [],
   "source": []
  },
  {
   "cell_type": "code",
   "execution_count": null,
   "metadata": {},
   "outputs": [],
   "source": []
  }
 ],
 "metadata": {
  "kernelspec": {
   "display_name": "Python 3",
   "language": "python",
   "name": "python3"
  },
  "language_info": {
   "codemirror_mode": {
    "name": "ipython",
    "version": 3
   },
   "file_extension": ".py",
   "mimetype": "text/x-python",
   "name": "python",
   "nbconvert_exporter": "python",
   "pygments_lexer": "ipython3",
   "version": "3.7.6"
  }
 },
 "nbformat": 4,
 "nbformat_minor": 4
}
